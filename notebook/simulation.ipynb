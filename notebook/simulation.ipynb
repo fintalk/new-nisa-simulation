{
 "cells": [
  {
   "attachments": {},
   "cell_type": "markdown",
   "metadata": {},
   "source": [
    "## 参照\n",
    "\n",
    "\n",
    "+ Botterのためのデータ可視化入門 — Botterのためのデータ可視化入門 - https://botter4visualization.readthedocs.io/en/latest/intro.html\n",
    "+ ETF SPDR S&P 500 ETF Trust 過去データ - Investing.com - https://jp.investing.com/etfs/spdr-s-p-500-historical-data\n",
    "+ S&P500 過去のレート - Investing.com - https://jp.investing.com/indices/us-spx-500-historical-data\n",
    "+ S&P 500 TR 過去のレート - Investing.com - https://jp.investing.com/indices/s-p-500-tr-historical-data\n",
    "\n",
    "\n"
   ]
  },
  {
   "cell_type": "code",
   "execution_count": null,
   "metadata": {},
   "outputs": [],
   "source": [
    "import warnings\n",
    "warnings.filterwarnings('ignore')\n",
    "\n",
    "import matplotlib.pyplot as plt\n",
    "import pandas as pd \n",
    "import numpy as np\n",
    "import japanize_matplotlib"
   ]
  },
  {
   "attachments": {},
   "cell_type": "markdown",
   "metadata": {},
   "source": [
    "## 前準備"
   ]
  },
  {
   "cell_type": "code",
   "execution_count": null,
   "metadata": {},
   "outputs": [],
   "source": [
    "# investingcom から取得した月次データをDataframeへ変換\n",
    "def to_df(f):\n",
    "    df = pd.read_csv(f, header=[0])\n",
    "    df = df.drop([\"出来高\",\"変化率 %\"], axis=1)\n",
    "\n",
    "    df[\"日付け\"] = pd.to_datetime(df[\"日付け\"])\n",
    "    df.set_index(\"日付け\", inplace=True)\n",
    "    df = df.sort_index()\n",
    "    try:\n",
    "        df = df.applymap(lambda x: pd.to_numeric(x))\n",
    "    except ValueError:\n",
    "        df = df.applymap(lambda x: x.replace(\",\", \"\")).applymap(pd.to_numeric)\n",
    "    \n",
    "    return df "
   ]
  },
  {
   "cell_type": "code",
   "execution_count": null,
   "metadata": {},
   "outputs": [],
   "source": [
    "# simulation \n",
    "\n",
    "def sim(df, df_fx, unit, cost):\n",
    "    # unit = 30000\n",
    "    # cost = 0.75/100\n",
    "\n",
    "    df = df.merge(df_fx[\"終値\"], on=\"日付け\", suffixes=[\"\",\"_fx\"], how=\"left\")\n",
    "    df[\"基準価額\"] = df[\"終値\"] * df[\"終値_fx\"]\n",
    "    df[\"基準価額変化率\"] = df[\"基準価額\"].pct_change().cumsum() + 1 \n",
    "    df[\"購入口数\"] = unit / df[\"基準価額\"] \n",
    "    df[\"総保有口数\"] = df[\"購入口数\"].cumsum()\n",
    "    df[\"資産評価額\"] = df[\"基準価額\"] * df[\"総保有口数\"] \n",
    "    df[\"投資元本\"] = [unit * (1 - cost)] * len(df)\n",
    "    df[\"投資元本\"] = df[\"投資元本\"].cumsum()    \n",
    "    df[\"損益\"] = df[\"資産評価額\"] - df[\"投資元本\"]\n",
    "    df[\"損益%\"] = df[\"資産評価額\"] / df[\"投資元本\"] \n",
    "    df[\"評価額変化率\"] = df[\"資産評価額\"].pct_change()\n",
    "\n",
    "    return df \n"
   ]
  },
  {
   "cell_type": "code",
   "execution_count": null,
   "metadata": {},
   "outputs": [],
   "source": [
    "# Dataframe 用意\n",
    "df_sp500 = to_df(\"../data/sp500.csv\")\n",
    "df_sp500tr = to_df(\"../data/sp500tr.csv\")\n",
    "df_spy = to_df(\"../data/spy.csv\")\n",
    "df_usdjpy = to_df(\"../data/usdjpy.csv\")\n",
    "df_n225 = to_df(\"../data/n225.csv\")\n",
    "\n",
    "\n",
    "# simulation 計算に為替が不要のときに使う\n",
    "df_jpy = df_usdjpy.applymap(lambda x: 1)\n",
    "\n"
   ]
  },
  {
   "attachments": {},
   "cell_type": "markdown",
   "metadata": {},
   "source": [
    "## 運用シュミュレーション\n",
    "+ SP500ETF（SPY）とSP500配当再投資型を積立投資した場合"
   ]
  },
  {
   "cell_type": "code",
   "execution_count": null,
   "metadata": {},
   "outputs": [],
   "source": [
    "unit = 1\n",
    "cost = 0.75/100\n",
    "\n",
    "df_sim_index = sim(df_sp500, df_usdjpy, unit, cost)   \n",
    "df_sim_tr = sim(df_sp500tr, df_usdjpy, unit, cost)   \n",
    "df_sim_spy = sim(df_spy, df_usdjpy, unit, cost)   "
   ]
  },
  {
   "cell_type": "code",
   "execution_count": null,
   "metadata": {},
   "outputs": [],
   "source": [
    "df_merged = pd.DataFrame(\n",
    "    {\n",
    "    \"INDEX\": df_sim_index[\"評価額変化率\"],\n",
    "    \"SP500TR\": df_sim_tr[\"評価額変化率\"],\n",
    "    \"SPY\": df_sim_spy[\"評価額変化率\"],\n",
    "})"
   ]
  },
  {
   "cell_type": "code",
   "execution_count": null,
   "metadata": {},
   "outputs": [],
   "source": [
    "df_merged.describe()"
   ]
  },
  {
   "cell_type": "code",
   "execution_count": null,
   "metadata": {},
   "outputs": [],
   "source": [
    "pd.DataFrame({\n",
    "    \"SP500TR PL\": df_sim_tr[\"損益\"],\n",
    "    \"SPY PL\": df_sim_spy[\"損益\"],\n",
    "    \"INDEX Close\": df_sim_index[\"終値\"]\n",
    "    }).plot(secondary_y=\"INDEX Close\", grid=True)"
   ]
  },
  {
   "attachments": {},
   "cell_type": "markdown",
   "metadata": {},
   "source": [
    "## 一定期間を運用した場合のSimulation\n",
    "\n",
    "データが2000年1月〜直近まであるので、ランダムにスタート地点をN個選び、そこからT期間運用した場合のSimulation\n",
    "\n"
   ]
  },
  {
   "cell_type": "code",
   "execution_count": null,
   "metadata": {},
   "outputs": [],
   "source": [
    "def random_sim(df_target,df_fx, n, T):\n",
    "    results = list()\n",
    "    for dt in df_target.index[:-T].to_series().sample(frac=1)[:n]:\n",
    "        _df = df_target.loc[dt:].head(T)\n",
    "        _df = sim(_df, df_fx, 1, 0.75/100)\n",
    "        s = pd.Series(_df[\"損益%\"].to_list())\n",
    "        s.name = dt.strftime(\"%Y/%m\")\n",
    "        results.append(s)\n",
    "    return pd.DataFrame(results).T\n",
    "        \n",
    "def random_sim_plot(df_target, df_fx,n, T):\n",
    "    df = random_sim(df_target, df_fx, n, T)\n",
    "    ax = df.plot(figsize=(15, 4), legend=True, grid=True, title=f\"期間：{T}ヶ月 / 回数 {n} 回\", ylim=(0, 3),)\n",
    "    ax.legend(loc='center left', bbox_to_anchor=(1.0, 0.5))\n",
    "    ax.axhline(y=1, color=\"black\", )"
   ]
  },
  {
   "cell_type": "code",
   "execution_count": null,
   "metadata": {},
   "outputs": [],
   "source": [
    "n = 20\n",
    "T = 12 * 10 # 12ヶ月 * 10 年\n",
    "df_target = df_spy\n",
    "random_sim_plot(df_target, df_usdjpy, n, T)"
   ]
  },
  {
   "cell_type": "code",
   "execution_count": null,
   "metadata": {},
   "outputs": [],
   "source": [
    "n = 20\n",
    "T = 12 * 10 # 12ヶ月 * 10 年\n",
    "df_target = df_n225\n",
    "random_sim_plot(df_target, df_jpy, n, T)"
   ]
  },
  {
   "cell_type": "code",
   "execution_count": null,
   "metadata": {},
   "outputs": [],
   "source": [
    "def random_sim2(df_target, df_fx, n, T):\n",
    "    results = list()\n",
    "    for dt in df_target.index[:-T].to_series().sample(frac=1)[:n].sort_index():\n",
    "        _df = df_target.loc[dt:].head(T)\n",
    "        _df = sim(_df, df_fx, 1, 0.75/100)\n",
    "        results.append(_df)\n",
    "    return results\n",
    "\n",
    "def random_sim2_plot(results, n, T):\n",
    "    fig = plt.figure(figsize=(18, 10))\n",
    "    i = 1\n",
    "    for _df in results:\n",
    "        ax = fig.add_subplot(4, 5, i)\n",
    "        _df[[\"基準価額変化率\",\"損益%\"]].plot(\n",
    "            ax=ax,\n",
    "            ylim=(0, 3),\n",
    "            rot=45,\n",
    "            grid=True,\n",
    "            title = _df.index[0].strftime(\"start: %Y/%m\")\n",
    "            )\n",
    "        i += 1\n",
    "    plt.tight_layout()    "
   ]
  },
  {
   "cell_type": "code",
   "execution_count": null,
   "metadata": {},
   "outputs": [],
   "source": [
    "n = 20\n",
    "T = 12 * 10 # 12ヶ月 * 10 年\n",
    "df_target = df_spy\n",
    "\n",
    "results = random_sim2(df_target, df_usdjpy,  n, T)\n",
    "random_sim2_plot(results, n, T)\n"
   ]
  }
 ],
 "metadata": {
  "kernelspec": {
   "display_name": ".venv",
   "language": "python",
   "name": "python3"
  },
  "language_info": {
   "codemirror_mode": {
    "name": "ipython",
    "version": 3
   },
   "file_extension": ".py",
   "mimetype": "text/x-python",
   "name": "python",
   "nbconvert_exporter": "python",
   "pygments_lexer": "ipython3",
   "version": "3.9.5"
  },
  "orig_nbformat": 4,
  "vscode": {
   "interpreter": {
    "hash": "630c72929146722e6761f33f17e745f8a1c6fbd5bfa29a8be4423207296a7cfc"
   }
  }
 },
 "nbformat": 4,
 "nbformat_minor": 2
}
